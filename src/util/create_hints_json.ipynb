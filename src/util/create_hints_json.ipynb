{
 "cells": [
  {
   "cell_type": "markdown",
   "metadata": {},
   "source": [
    "# Create `hints.json`"
   ]
  },
  {
   "cell_type": "code",
   "execution_count": null,
   "metadata": {},
   "outputs": [],
   "source": [
    "import os\n",
    "import pandas as pd\n",
    "import json\n",
    "\n",
    "from pathlib import Path\n",
    "from dotenv import load_dotenv\n",
    "\n",
    "load_dotenv()\n",
    "DATA_PATH = Path(os.getenv(\"DATA_PATH\"))\n",
    "\n",
    "# only for .ipynb because relative imports don't work\n",
    "root_path = Path(DATA_PATH).parent\n",
    "os.chdir(str(root_path))\n",
    "\n",
    "import src.database.db_connector as db\n",
    "\n",
    "# database name for results\n",
    "db_name = \"clustering_db\"\n",
    "cnx = db.connect_to_database(db_name)\n"
   ]
  },
  {
   "cell_type": "code",
   "execution_count": null,
   "metadata": {},
   "outputs": [],
   "source": [
    "labels_path = DATA_PATH / \"labels\" / \"labels.csv\"\n",
    "\n",
    "# read labels into dataframe\n",
    "df = pd.read_csv(labels_path, header=None, names=[\"label\", \"type\", \"id\"])\n",
    "\n",
    "df"
   ]
  },
  {
   "cell_type": "code",
   "execution_count": null,
   "metadata": {},
   "outputs": [],
   "source": [
    "# category list\n",
    "categories = list(df[df[\"type\"] == \"category\"][\"label\"])"
   ]
  },
  {
   "cell_type": "code",
   "execution_count": null,
   "metadata": {},
   "outputs": [],
   "source": [
    "# query top n=5 labels for each cluster withj \n",
    "top_n_query = \"\"\"\n",
    "    SELECT rj.cluster_id, rj.label_name\n",
    "    FROM ( \n",
    "        SELECT * FROM (\n",
    "            SELECT \n",
    "            j.ranked_k_value,\n",
    "            j.cluster_id, \n",
    "            @cluster_rank := if(@current_cluster = j.cluster_id, @cluster_rank  + 1, 1) AS cluster_rank ,\n",
    "            j.label_name,\n",
    "            j.factor_tf_idf,\n",
    "            @current_cluster := j.cluster_id\n",
    "            FROM ( \n",
    "                SELECT  *\n",
    "                FROM matchings AS m\n",
    "                INNER JOIN ( \n",
    "                    SELECT ma.k_value as ranked_k_value, ma.run_name as ranked_run\n",
    "                    FROM matchings AS ma\n",
    "                    WHERE (ma.run_name = \"v01_all_run2_pca90\" OR ma.run_name = \"v01_all_run3_pca90\") \n",
    "                    group by ma.k_value\n",
    "                ) as ranked_k on ranked_k.ranked_k_value = m.k_value\n",
    "                INNER JOIN labels as l on m.label_name = l.name\n",
    "                WHERE (m.run_name = \"v01_all_run2_pca90\" OR m.run_name = \"v01_all_run3_pca90\")  AND m.k_value = ranked_k.ranked_k_value AND l.type =\"tag\"\n",
    "                ORDER BY ranked_k.ranked_k_value, m.cluster_id, m.factor_tf_idf desc\n",
    "            ) as j\n",
    "        ) as ranked_clusters\n",
    "        where ranked_clusters.cluster_rank <= 5\n",
    "        and ranked_clusters.ranked_k_value = 55\n",
    "    ) as rj;\n",
    "\"\"\"\n",
    "\n",
    "df_topn = pd.read_sql(top_n_query, cnx)\n",
    "df_topn"
   ]
  },
  {
   "cell_type": "code",
   "execution_count": null,
   "metadata": {},
   "outputs": [],
   "source": [
    "# list of dict with cluster and feature tag  \n",
    "cluster_dict_list = df_topn.to_dict(\"records\")\n",
    "\n",
    "cluster_dict_list"
   ]
  },
  {
   "cell_type": "code",
   "execution_count": null,
   "metadata": {},
   "outputs": [],
   "source": [
    "# load manually edited mappings\n",
    "with open(DATA_PATH / \"chatbot\" / \"mappings.json\", \"r\") as json_file:\n",
    "    mappings_dict = json.load(json_file)\n",
    "    \n",
    "print(len(cluster_dict_list))\n",
    "\n",
    "mapped_hints = []\n",
    "# map label names\n",
    "for hint in cluster_dict_list:\n",
    "    name = mappings_dict[hint[\"label_name\"]][\"name\"]\n",
    "    print(hint)\n",
    "    \n",
    "    # skip if label is mapped to None\n",
    "    if name is not None:\n",
    "        hint[\"label_name\"] = name\n",
    "        mapped_hints.append(hint)\n",
    "    else:\n",
    "        continue\n",
    "\n",
    "print(len(mapped_hints))"
   ]
  },
  {
   "cell_type": "code",
   "execution_count": null,
   "metadata": {},
   "outputs": [],
   "source": [
    "mapped_cats = []\n",
    "\n",
    "# apply mappings to categories\n",
    "for cat in categories:\n",
    "    name = mappings_dict[cat][\"name\"]\n",
    "    label_type = mappings_dict[cat][\"type\"]\n",
    "\n",
    "    # skip if label is mapped to None\n",
    "    if name is not None:\n",
    "        mapped_cats.append(name)\n",
    "    else:\n",
    "        continue"
   ]
  },
  {
   "cell_type": "code",
   "execution_count": null,
   "metadata": {},
   "outputs": [],
   "source": [
    "# create dicts containing list of top 5 features for each cluster\n",
    "hint_lists = [\n",
    "    {cid: [dct[\"label_name\"] for dct in cluster_dict_list if dct[\"cluster_id\"] == cid]}\n",
    "    for cid in list(range(0, 55))\n",
    "]\n",
    "\n",
    "hint_lists"
   ]
  },
  {
   "cell_type": "code",
   "execution_count": null,
   "metadata": {},
   "outputs": [],
   "source": [
    "# merge hint lists of dicts to one dict\n",
    "hint_dict = {}\n",
    "for dct in hint_lists:\n",
    "    hint_dict.update(dct)\n",
    "\n",
    "hint_dict"
   ]
  },
  {
   "cell_type": "code",
   "execution_count": null,
   "metadata": {},
   "outputs": [],
   "source": [
    "# create dict to write to json\n",
    "json_dict = {\"categories\": mapped_cats, \"features\": hint_dict}\n",
    "\n",
    "json_dict"
   ]
  },
  {
   "cell_type": "code",
   "execution_count": null,
   "metadata": {},
   "outputs": [],
   "source": [
    "# export to json file\n",
    "import json\n",
    "\n",
    "with open(DATA_PATH / \"chatbot\" / \"hints-new.json\", \"w\") as outfile:\n",
    "    json.dump(json_dict, outfile, indent = 4)"
   ]
  }
 ],
 "metadata": {
  "interpreter": {
   "hash": "07e3a7355d7abb8aa405eb35da3e7fd4ab2bc4b84e1079a2d318e7f47c8b0cf5"
  },
  "kernelspec": {
   "display_name": "Python 3.8.3 64-bit ('venv': venv)",
   "name": "python3"
  },
  "language_info": {
   "codemirror_mode": {
    "name": "ipython",
    "version": 3
   },
   "file_extension": ".py",
   "mimetype": "text/x-python",
   "name": "python",
   "nbconvert_exporter": "python",
   "pygments_lexer": "ipython3",
   "version": "3.8.3"
  },
  "orig_nbformat": 4
 },
 "nbformat": 4,
 "nbformat_minor": 2
}
