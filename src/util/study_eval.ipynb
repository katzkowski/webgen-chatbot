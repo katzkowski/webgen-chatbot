{
 "cells": [
  {
   "cell_type": "markdown",
   "metadata": {},
   "source": [
    "# User Study Evaluation"
   ]
  },
  {
   "cell_type": "code",
   "execution_count": null,
   "metadata": {},
   "outputs": [],
   "source": [
    "import os\n",
    "import pandas as pd\n",
    "\n",
    "from pathlib import Path\n",
    "from dotenv import load_dotenv\n",
    "import matplotlib.pyplot as plt\n",
    "\n",
    "# 2-sample t-test\n",
    "from scipy.stats import ttest_ind, ttest_1samp\n",
    "\n",
    "load_dotenv()\n",
    "DATA_PATH = Path(os.getenv(\"DATA_PATH\"))"
   ]
  },
  {
   "cell_type": "markdown",
   "metadata": {},
   "source": [
    "## Load results from file"
   ]
  },
  {
   "cell_type": "code",
   "execution_count": null,
   "metadata": {},
   "outputs": [],
   "source": [
    "# path to results\n",
    "results_path = DATA_PATH / \"study\" / \"study-results.csv\"\n",
    "\n",
    "df = pd.read_csv(results_path)\n",
    "# df"
   ]
  },
  {
   "cell_type": "markdown",
   "metadata": {},
   "source": [
    "## Add column indicating which version was used first"
   ]
  },
  {
   "cell_type": "code",
   "execution_count": null,
   "metadata": {},
   "outputs": [],
   "source": [
    "used_first = [\"real\", \"generated\", \"generated\", \"real\", \"real\", \"generated\"]\n",
    "\n",
    "df[\"first version\"] = used_first\n",
    "\n",
    "df"
   ]
  },
  {
   "cell_type": "markdown",
   "metadata": {},
   "source": [
    "## Demographics"
   ]
  },
  {
   "cell_type": "code",
   "execution_count": null,
   "metadata": {},
   "outputs": [],
   "source": [
    "demo_questions = [\n",
    "    \"How do you identify?\",\n",
    "    \"How old are you?\",\n",
    "    \"What is your job/background?\",\n",
    "    \"Have you designed websites before?\",\n",
    "    \"Have you worked with AI technologies before?\",\n",
    "]\n",
    "\n",
    "demo_df = df[demo_questions].copy()\n",
    "\n",
    "demo_df"
   ]
  },
  {
   "cell_type": "markdown",
   "metadata": {},
   "source": [
    "## Gender "
   ]
  },
  {
   "cell_type": "code",
   "execution_count": null,
   "metadata": {},
   "outputs": [],
   "source": [
    "import matplotlib.patches as mpatches\n",
    "\n",
    "fig1, ax1 = plt.subplots()\n",
    "\n",
    "blue_patch = mpatches.Patch(color='tab:blue', label='Male')\n",
    "red_patch = mpatches.Patch(color='tab:red', label='Female')\n",
    "orange_patch = mpatches.Patch(color='tab:orange', label='Non-binary')\n",
    "green_patch = mpatches.Patch(color='tab:green', label='Prefer not to say')\n",
    "\n",
    "ax1.pie(x=[66.7, 33.3], autopct='%1.1f%%', startangle=90, colors=[\"tab:blue\", \"tab:red\"], explode=(0.00,0.005))\n",
    "ax1.axis('equal')  # Equal aspect ratio ensures that pie is drawn as a circle.\n",
    "\n",
    "ax1.legend(handles=[blue_patch, red_patch, orange_patch, green_patch], loc=(0.85,0.68))\n",
    "\n",
    "# labels=[\"Male\", \"Female\", \"Non-binary\", \"Prefer not to say\"]\n",
    "plt.show()"
   ]
  },
  {
   "cell_type": "markdown",
   "metadata": {},
   "source": [
    "## Age"
   ]
  },
  {
   "cell_type": "code",
   "execution_count": null,
   "metadata": {},
   "outputs": [],
   "source": [
    "# demo_df.plot(x=\"How old are you?\", y=\"How old are you?\", backend=\"matplotlib\")\n",
    "plt.bar(x=[21,22,23,24,25,26], height=[2,3,0,0,0,1])\n",
    "plt.xlabel(\"Age\")\n",
    "plt.ylabel(\"Count\")\n",
    "plt.ylim(0,4)\n",
    "\n",
    "plt.show()"
   ]
  },
  {
   "cell_type": "markdown",
   "metadata": {},
   "source": [
    "## Questions"
   ]
  },
  {
   "cell_type": "code",
   "execution_count": null,
   "metadata": {},
   "outputs": [],
   "source": [
    "csi_questions_first = [\n",
    "    'I would be happy to use this chatbot on a regular basis.',\n",
    "    'I enjoyed using the chatbot.',\n",
    "    'It was easy for me to explore many different ideas, options, designs, or outcomes, using this chatbot.',\n",
    "    'The chatbot was helpful in allowing me to track different ideas, outcomes, or possibilities.',\n",
    "    'I was able to be very creative while doing the activity inside this chatbot.',\n",
    "    'The chatbot allowed me to be very expressive.',\n",
    "    'My attention was fully tuned to the activity, and I forgot about the chatbot that I was using.',\n",
    "    'I became so absorbed in the activity that I forgot about the chatbot that I was using.',\n",
    "    'I was satisfied with what I got out of the chatbot.',\n",
    "    'What I was able to produce was worth the effort I had to exert to produce it.'\n",
    "]\n",
    "\n",
    "custom_questions_first = [\n",
    "    'Using the chatbot, I felt like I was stealing work from others.',\n",
    "    'I would use the chatbot over traditional sources of inspiration (e. g. Awwwards, Dribbble, ...).',\n",
    "    'I would use the chatbot complementary with traditional sources of inspiration.',\n",
    "    'I was able to interpret something new into the presented designs.',\n",
    "    'The layout of the presented designs was helpful for my work.'\n",
    "]\n",
    "\n",
    "csi_questions_second = [\n",
    "    'I would be happy to use this chatbot on a regular basis..1',\n",
    "    'I enjoyed using the chatbot..1',\n",
    "    'It was easy for me to explore many different ideas, options, designs, or outcomes, using this chatbot..1',\n",
    "    'The chatbot was helpful in allowing me to track different ideas, outcomes, or possibilities..1',\n",
    "    'I was able to be very creative while doing the activity inside this chatbot..1',\n",
    "    'The chatbot allowed me to be very expressive..1',\n",
    "    'My attention was fully tuned to the activity, and I forgot about the chatbot that I was using..1',\n",
    "    'I became so absorbed in the activity that I forgot about the chatbot that I was using..1',\n",
    "    'I was satisfied with what I got out of the chatbot..1',\n",
    "    'What I was able to produce was worth the effort I had to exert to produce it..1'\n",
    "]\n",
    "\n",
    "custom_questions_second = [\n",
    "    'Using the chatbot, I felt like I was stealing work from others..1',\n",
    "    'I would use the chatbot over traditional sources of inspiration (e. g. Awwwards, Dribbble, ...)..1',\n",
    "    'I would use the chatbot complementary with traditional sources of inspiration..1',\n",
    "    'I was able to interpret something new into the presented designs..1',\n",
    "    'The layout of the presented designs was helpful for my work..1',\n",
    "]"
   ]
  },
  {
   "cell_type": "markdown",
   "metadata": {},
   "source": [
    "## Extract answers depnding on version: 'real' or 'fake'"
   ]
  },
  {
   "cell_type": "code",
   "execution_count": null,
   "metadata": {},
   "outputs": [],
   "source": [
    "# csi\n",
    "real_csi_dict = {}\n",
    "fake_csi_dict = {}\n",
    "\n",
    "# custom\n",
    "real_custom_dict = {}\n",
    "fake_custom_dict = {}\n",
    "\n",
    "\n",
    "for index in range(0,6):\n",
    "    # use first or second questionare depending on version\n",
    "    if df.iloc[index][\"first version\"] == \"real\":\n",
    "        # csi\n",
    "        real_csi_dict[index] = df.iloc[index][csi_questions_first].values\n",
    "        fake_csi_dict[index] = df.iloc[index][csi_questions_second].values\n",
    "\n",
    "        # custom\n",
    "        real_custom_dict[index] = df.iloc[index][custom_questions_first].values\n",
    "        fake_custom_dict[index] = df.iloc[index][custom_questions_second].values\n",
    "    else:\n",
    "        # csi\n",
    "        real_csi_dict[index] = df.iloc[index][csi_questions_second].values\n",
    "        fake_csi_dict[index] = df.iloc[index][csi_questions_first].values\n",
    "\n",
    "        # custom\n",
    "        real_custom_dict[index] = df.iloc[index][custom_questions_second].values\n",
    "        fake_custom_dict[index] = df.iloc[index][custom_questions_first].values\n",
    "        \n",
    "# create dfs\n",
    "real_csi_df = pd.DataFrame.from_dict(\n",
    "    real_csi_dict, orient=\"index\", columns=csi_questions_first\n",
    ")\n",
    "fake_csi_df = pd.DataFrame.from_dict(\n",
    "    fake_csi_dict, orient=\"index\", columns=csi_questions_first # first questions to avoid .1 in question\n",
    ")\n",
    "real_custom_df = pd.DataFrame.from_dict(\n",
    "    real_custom_dict, orient=\"index\", columns=custom_questions_first\n",
    ") \n",
    "fake_custom_df = pd.DataFrame.from_dict(\n",
    "    fake_custom_dict, orient=\"index\", columns=custom_questions_first # first questions to avoid .1 in question\n",
    ") \n"
   ]
  },
  {
   "cell_type": "code",
   "execution_count": null,
   "metadata": {},
   "outputs": [],
   "source": [
    "real_custom_df"
   ]
  },
  {
   "cell_type": "markdown",
   "metadata": {},
   "source": [
    "## Real vs. Fake CSI"
   ]
  },
  {
   "cell_type": "code",
   "execution_count": null,
   "metadata": {},
   "outputs": [],
   "source": [
    "# calculate means\n",
    "real_csi = real_csi_df.mean().round(1).values\n",
    "fake_csi = fake_csi_df.mean().round(1).values\n",
    "\n",
    "# calculate std deviation\n",
    "real_csi_std = real_csi_df.std().round(1).values\n",
    "fake_csi_std = fake_csi_df.std().round(1).values\n",
    "\n",
    "# create df\n",
    "real_fake_csi_df = pd.DataFrame.from_dict({\"real csi (mean)\": real_csi, \"fake csi (mean)\": fake_csi, \"difference (mean)\": None, \"real csi (std)\": real_csi_std, \"fake csi (std)\": fake_csi_std} )\n",
    "\n",
    "# add column for difference\n",
    "real_fake_csi_df[\"difference (mean)\"] = ((real_csi - fake_csi) * (-1)).round(1)\n",
    "\n",
    "# add index\n",
    "real_fake_csi_df.index = csi_questions_first \n",
    "real_fake_csi_df.index.name = \"Questions\"\n",
    "\n",
    "real_fake_csi_df.to_csv(DATA_PATH / \"study\" / \"csi-results.csv\")\n",
    "real_fake_csi_df\n",
    "# csi_ttest_df\n"
   ]
  },
  {
   "cell_type": "markdown",
   "metadata": {},
   "source": [
    "## CSI calculation"
   ]
  },
  {
   "cell_type": "code",
   "execution_count": null,
   "metadata": {},
   "outputs": [],
   "source": [
    "real_fake_csi_df.sum()"
   ]
  },
  {
   "cell_type": "markdown",
   "metadata": {},
   "source": [
    "## Real vs Fake Custom"
   ]
  },
  {
   "cell_type": "code",
   "execution_count": null,
   "metadata": {},
   "outputs": [],
   "source": [
    "# calculate means\n",
    "real_custom = real_custom_df.mean().round(1).values\n",
    "fake_custom = fake_custom_df.mean().round(1).values\n",
    "\n",
    "# calculate std deviation\n",
    "real_custom_std = real_custom_df.std().round(1).values\n",
    "fake_custom_std = fake_custom_df.std().round(1).values\n",
    "\n",
    "# create df\n",
    "real_fake_custom_df = pd.DataFrame.from_dict({\"real custom (mean)\": real_custom, \"fake custom (mean)\": fake_custom, \"difference (mean)\": None, \"real custom (std)\": real_custom_std, \"fake custom (std)\": fake_custom_std} )\n",
    "\n",
    "# add column for difference\n",
    "real_fake_custom_df[\"difference (mean)\"] = (real_custom - fake_custom) * (-1)\n",
    "\n",
    "# add index\n",
    "real_fake_custom_df.index = custom_questions_first \n",
    "\n",
    "real_fake_custom_df.to_csv(DATA_PATH / \"study\" / \"custom-results.csv\")\n",
    "real_fake_custom_df"
   ]
  },
  {
   "cell_type": "markdown",
   "metadata": {},
   "source": [
    "## Bar plots with mean and std for CSI"
   ]
  },
  {
   "cell_type": "code",
   "execution_count": null,
   "metadata": {},
   "outputs": [],
   "source": [
    "# questions with line break \n",
    "csi_questions_first_wrap = [\n",
    "    'I would be happy to use this\\nchatbot on a regular basis.',\n",
    "    'I enjoyed using the chatbot.',\n",
    "    'It was easy for me to explore\\nmany different ideas, options, designs,\\nor outcomes, using this chatbot.',\n",
    "    'The chatbot was helpful in\\nallowing me to track different ideas,\\noutcomes, or possibilities.',\n",
    "    'I was able to be very creative\\nwhile doing the activity inside\\nthis chatbot.',\n",
    "    'The chatbot allowed me to be\\nvery expressive.',\n",
    "    'My attention was fully tuned\\nto the activity, and I forgot about\\nthe chatbot that I was using.',\n",
    "    'I became so absorbed in the\\nactivity that I forgot about the\\nchatbot that I was using.',\n",
    "    'I was satisfied with what\\nI got out of the chatbot.',\n",
    "    'What I was able to produce\\nwas worth the effort I had to exert\\nto produce it.'\n",
    "]\n",
    "\n",
    "csi_cats = [\"Enjoyment\", \"Exploration\", \"Expressiveness\", \"Immersion\", \"Results Worth Effort\"]"
   ]
  },
  {
   "cell_type": "code",
   "execution_count": null,
   "metadata": {},
   "outputs": [],
   "source": [
    "i = 0\n",
    "x = 0\n",
    "for index, row in real_fake_csi_df.iterrows():\n",
    "    if x == 0: \n",
    "        fig, axes = plt.subplots(1,2,figsize=(8, 3))\n",
    "\n",
    "    error_bars = row[[\"real csi (std)\", \"fake csi (std)\"]].values\n",
    "\n",
    "    axes[x].bar(x=[\"real (mean)\", \"fake (mean)\"], height=row[[\"real csi (mean)\", \"fake csi (mean)\"]].values, color=[\"green\", \"red\"], yerr=error_bars, ecolor='black', capsize=10)\n",
    "\n",
    "    axes[x].set_title(csi_questions_first_wrap[i])\n",
    "    axes[x].set_ylim([0,8])\n",
    "    axes[x].set_yticks(range(1,8))\n",
    "    axes[x].set_yticklabels([\"Strongly\\ndisagree (1)\",2,3,4,5,6,\"Strongly\\nagree (7)\"])\n",
    "\n",
    "\n",
    "    # save fig\n",
    "    if x == 1:\n",
    "        fig.tight_layout()\n",
    "        fig_path = DATA_PATH / \"study\" / (csi_cats[int(i/2)].replace(\" \", \"-\").lower() + \".jpg\")\n",
    "\n",
    "        fig.savefig(fig_path, format=\"jpg\", backend=\"Agg\")\n",
    "\n",
    "    # increment position counters\n",
    "    x = 1 - x\n",
    "    i += 1"
   ]
  },
  {
   "cell_type": "markdown",
   "metadata": {},
   "source": [
    "## Bar plots with mean and std for custom"
   ]
  },
  {
   "cell_type": "code",
   "execution_count": null,
   "metadata": {},
   "outputs": [],
   "source": [
    "# questions with line wrap\n",
    "custom_questions_wrap = [\n",
    "    'Using the chatbot, I felt like\\nI was stealing work from others.',\n",
    "    'I would use the chatbot over\\ntraditional sources of inspiration\\n(e. g. Awwwards, Dribbble, ...).',\n",
    "    'I would use the chatbot complementary\\nwith traditional sources of inspiration.',\n",
    "    'I was able to interpret something\\nnew into the presented designs.',\n",
    "    'The layout of the presented designs\\nwas helpful for my work.'\n",
    "]\n",
    "\n",
    "custom_cats = [\"stealing\", \"traditional-sources\", \"interpretable\", \"layout-helpful\"]"
   ]
  },
  {
   "cell_type": "code",
   "execution_count": null,
   "metadata": {},
   "outputs": [],
   "source": [
    "i = 0\n",
    "x = 0\n",
    "\n",
    "save_first = True\n",
    "\n",
    "# first three questions\n",
    "for index, row in real_fake_custom_df.iterrows():\n",
    "    if x == 0: \n",
    "        fig, axes = plt.subplots(1,3,figsize=(12, 3))\n",
    "    elif x == 3:\n",
    "        x = 0\n",
    "        save_first = False\n",
    "        fig, axes = plt.subplots(1,2,figsize=(8, 3))\n",
    "\n",
    "    error_bars = row[[\"real custom (std)\", \"fake custom (std)\"]].values\n",
    "\n",
    "    axes[x].bar(x=[\"real (mean)\", \"fake (mean)\"], height=row[[\"real custom (mean)\", \"fake custom (mean)\"]].values, color=[\"green\", \"red\"], yerr=error_bars, ecolor='black', capsize=10)\n",
    "\n",
    "    axes[x].set_title(custom_questions_wrap[i])\n",
    "    axes[x].set_ylim([0,8])\n",
    "    axes[x].set_yticks(range(1,8))\n",
    "    axes[x].set_yticklabels([\"Strongly\\ndisagree (1)\",2,3,4,5,6,\"Strongly\\nagree (7)\"])\n",
    "\n",
    "\n",
    "    # save fig\n",
    "    if x == 2 and save_first:\n",
    "        fig.tight_layout()\n",
    "        fig_path = DATA_PATH / \"study\" / \"stealing-traditional-sources.jpg\"\n",
    "        fig.savefig(fig_path, format=\"jpg\", backend=\"Agg\")\n",
    "    elif x == 1 and not save_first:\n",
    "        fig.tight_layout()\n",
    "        fig_path = DATA_PATH / \"study\" / \"interpretable-helpful.jpg\"\n",
    "        fig.savefig(fig_path, format=\"jpg\", backend=\"Agg\")\n",
    "\n",
    "    # increment position counters\n",
    "    x += 1\n",
    "    i += 1\n",
    "    # i += 1"
   ]
  },
  {
   "cell_type": "markdown",
   "metadata": {},
   "source": [
    "## Statistical significance using t-test"
   ]
  },
  {
   "cell_type": "code",
   "execution_count": null,
   "metadata": {},
   "outputs": [],
   "source": [
    "noidea_a = [4,4,4,4,4,2,3,4,3,4]\n",
    "noidea_b = [4,3,5,4,4,3,4,5,4,3]\n",
    "\n",
    " \n",
    "t_a = ttest_ind(noidea_a, noidea_b)\n",
    "t_b = ttest_ind(noidea_b, noidea_a)\n",
    "\n",
    "print(t_a)\n",
    "print(t_b)\n"
   ]
  },
  {
   "cell_type": "code",
   "execution_count": null,
   "metadata": {},
   "outputs": [],
   "source": [
    "# 2-sample t-test\n",
    "csi_ttest = {}\n",
    "for quest in csi_questions_first:\n",
    "    csi_ttest[quest] = ttest_ind(real_csi_df[quest].values, fake_csi_df[quest].values)\n",
    "\n",
    "csi_ttest_df = pd.DataFrame.from_dict(csi_ttest, orient=\"index\", columns=[\"t-statistic\", \"p-value\"])\n",
    "\n",
    "csi_ttest = ttest_ind(real_csi_df.values, fake_csi_df.values)\n",
    "print(csi_ttest)\n",
    "\n",
    "csi_ttest_df"
   ]
  },
  {
   "cell_type": "code",
   "execution_count": null,
   "metadata": {},
   "outputs": [],
   "source": [
    "# 2-sample t-test\n",
    "custom_ttest = {}\n",
    "for quest in custom_questions_first:\n",
    "    custom_ttest[quest] = ttest_ind(real_custom_df[quest].values, fake_custom_df[quest].values)\n",
    "\n",
    "# custom\n",
    "custom_ttest_df = pd.DataFrame.from_dict(custom_ttest, orient=\"index\", columns=[\"t-statistic\", \"p-value (two-sided)\"])\n",
    "\n",
    "# one-sided p-value\n",
    "custom_ttest_df[\"p-value (one-sided)\"] = custom_ttest_df[\"p-value (two-sided)\"] / 2\n",
    "\n",
    "custom_ttest = ttest_ind(real_custom_df.values, fake_custom_df.values)\n",
    "custom_ttest_df"
   ]
  }
 ],
 "metadata": {
  "interpreter": {
   "hash": "07e3a7355d7abb8aa405eb35da3e7fd4ab2bc4b84e1079a2d318e7f47c8b0cf5"
  },
  "kernelspec": {
   "display_name": "Python 3.8.3 64-bit ('venv': venv)",
   "name": "python3"
  },
  "language_info": {
   "codemirror_mode": {
    "name": "ipython",
    "version": 3
   },
   "file_extension": ".py",
   "mimetype": "text/x-python",
   "name": "python",
   "nbconvert_exporter": "python",
   "pygments_lexer": "ipython3",
   "version": "3.8.3"
  },
  "orig_nbformat": 4
 },
 "nbformat": 4,
 "nbformat_minor": 2
}
