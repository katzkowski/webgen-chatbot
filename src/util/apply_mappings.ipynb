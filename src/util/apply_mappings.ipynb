{
 "cells": [
  {
   "cell_type": "markdown",
   "source": [
    "# Apply mappings to `rankings.csv`"
   ],
   "metadata": {}
  },
  {
   "cell_type": "code",
   "execution_count": 1,
   "source": [
    "import os\r\n",
    "from pathlib import Path\r\n",
    "\r\n",
    "import pandas as pd\r\n",
    "\r\n",
    "DATA_PATH = Path(os.getenv(\"DATA_PATH\"))"
   ],
   "outputs": [],
   "metadata": {}
  },
  {
   "cell_type": "markdown",
   "source": [
    "## Load files"
   ],
   "metadata": {}
  },
  {
   "cell_type": "code",
   "execution_count": 2,
   "source": [
    "# load rankings\r\n",
    "df_rankings = pd.read_csv(DATA_PATH / \"chatbot\" / \"rankings_k55_all.csv\")\r\n",
    "\r\n",
    "# load mappings\r\n",
    "df_mappings = pd.read_json(DATA_PATH / \"chatbot\" / \"mappings.json\", orient=\"index\")"
   ],
   "outputs": [],
   "metadata": {}
  },
  {
   "cell_type": "code",
   "execution_count": 3,
   "source": [
    "def map_name(old_name):\r\n",
    "    try:\r\n",
    "        new_name = df_mappings.loc[old_name][\"name\"]\r\n",
    "    except KeyError:\r\n",
    "        new_name = old_name\r\n",
    "    return new_name"
   ],
   "outputs": [],
   "metadata": {}
  },
  {
   "cell_type": "code",
   "execution_count": 4,
   "source": [
    "# apply mapping\r\n",
    "df = df_rankings.copy()\r\n",
    "df[\"label_name\"] = df_rankings[[\"label_name\"]].applymap(map_name)\r\n",
    "\r\n",
    "# drop null values\r\n",
    "df = df.dropna(how='any',axis=0) \r\n",
    "\r\n",
    "print(df)\r\n",
    "df.to_csv(DATA_PATH / \"chatbot\" / \"rankings.csv\")"
   ],
   "outputs": [
    {
     "output_type": "stream",
     "name": "stdout",
     "text": [
      "      cluster_id  cluster_rank    label_name  factor_lf_ilf\n",
      "0              0             1  Food / Drink       1.873580\n",
      "1              0             2    E-Commerce       0.453630\n",
      "2              0             3     Scrolling       0.382348\n",
      "3              0             4      Parallax       0.369570\n",
      "4              0             5        Yellow       0.327906\n",
      "...          ...           ...           ...            ...\n",
      "8342          54           160            VR       0.001788\n",
      "8343          54           161         Figma       0.001526\n",
      "8344          54           162       Yepnope       0.001490\n",
      "8345          54           163       Magento       0.001227\n",
      "8346          54           164     RequireJS       0.000869\n",
      "\n",
      "[7856 rows x 4 columns]\n"
     ]
    }
   ],
   "metadata": {}
  }
 ],
 "metadata": {
  "orig_nbformat": 4,
  "language_info": {
   "name": "python",
   "version": "3.8.3",
   "mimetype": "text/x-python",
   "codemirror_mode": {
    "name": "ipython",
    "version": 3
   },
   "pygments_lexer": "ipython3",
   "nbconvert_exporter": "python",
   "file_extension": ".py"
  },
  "kernelspec": {
   "name": "python3",
   "display_name": "Python 3.8.3 64-bit ('venv': venv)"
  },
  "interpreter": {
   "hash": "07e3a7355d7abb8aa405eb35da3e7fd4ab2bc4b84e1079a2d318e7f47c8b0cf5"
  }
 },
 "nbformat": 4,
 "nbformat_minor": 2
}