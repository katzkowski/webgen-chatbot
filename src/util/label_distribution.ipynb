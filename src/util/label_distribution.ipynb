{
 "cells": [
  {
   "cell_type": "markdown",
   "metadata": {},
   "source": [
    "# Label Distribution"
   ]
  },
  {
   "cell_type": "code",
   "execution_count": null,
   "metadata": {},
   "outputs": [],
   "source": [
    "import os\n",
    "import matplotlib.pyplot as plt\n",
    "import pandas as pd\n",
    "\n",
    "from pathlib import Path\n",
    "from dotenv import load_dotenv\n",
    "\n",
    "load_dotenv()\n",
    "DATA_PATH = Path(os.getenv(\"DATA_PATH\"))\n",
    "\n",
    "# only for .ipynb because relative imports don't work\n",
    "root_path = Path(DATA_PATH).parent\n",
    "os.chdir(str(root_path))\n",
    "\n",
    "import src.database.db_connector as db"
   ]
  },
  {
   "cell_type": "code",
   "execution_count": null,
   "metadata": {},
   "outputs": [],
   "source": [
    "# database name for results\n",
    "db_name = \"clustering_db\"\n",
    "cnx = db.connect_to_database(db_name)\n",
    "cursor = db.get_connection_cursor(cnx)\n",
    "\n",
    "label_distribution_by_count = DATA_PATH / \"labels\" / \"label_distribution_by_count.csv\"\n",
    "# df = pd.read_csv(label_distribution_by_count)\n",
    "\n",
    "query = \"\"\"\n",
    "    select l.name, l.type, Count(*)\n",
    "    from screenshots as s\n",
    "    inner join websites as w on w.url=s.page_url\n",
    "    inner join website_labels as wl on w.id=wl.website_id\n",
    "    inner join labels as l on wl.label_id=l.id\n",
    "    group by l.name\n",
    "    having count(*) > 100\n",
    "    order by count(*) desc;\n",
    "\"\"\"\n",
    "\n",
    "df = pd.read_sql(query, cnx)\n",
    "print(df[:15])"
   ]
  },
  {
   "cell_type": "code",
   "execution_count": null,
   "metadata": {},
   "outputs": [],
   "source": [
    "# map type to colors\n",
    "types = list(df[\"type\"].sort_values().unique())\n",
    "print(types)\n",
    "\n",
    "colors = [\"b\", \"c\", \"r\", \"y\"]\n",
    "\n",
    "type_colors = list(map(lambda t: colors[types.index(t)], df[\"type\"]))"
   ]
  },
  {
   "cell_type": "code",
   "execution_count": null,
   "metadata": {},
   "outputs": [],
   "source": [
    "plt.figure(figsize=(40,40))\n",
    "plt.barh(df[\"name\"], df[\"Count(*)\"], color=type_colors)\n",
    "\n",
    "# legend\n",
    "handles = [plt.Rectangle((0,0),1,1, color=c) for c in colors]\n",
    "plt.legend(handles, types)\n",
    "\n",
    "# label counts\n",
    "for index, value in enumerate(df[\"Count(*)\"]):\n",
    "    plt.text(value, index, str(value))\n",
    "\n",
    "plt.gca().invert_yaxis()\n",
    "plt.xticks(rotation=80)\n",
    "\n",
    "# save plot as file\n",
    "target_dir = Path(DATA_PATH) / \"plots\" / \"clustering\" / \"labels\" \n",
    "if not target_dir.is_dir():\n",
    "        target_dir.mkdir(parents=True, exist_ok=True)\n",
    "\n",
    "plt.savefig(target_dir / \"original_distribution.jpeg\")\n",
    "plt.show()"
   ]
  },
  {
   "cell_type": "code",
   "execution_count": null,
   "metadata": {},
   "outputs": [],
   "source": [
    "fig = plt.figure(figsize=(16,9))\n",
    "\n",
    "plt.bar(df[\"name\"], df[\"Count(*)\"], color=type_colors)\n",
    "\n",
    "# legend\n",
    "handles = [plt.Rectangle((0,0),1,1, color=c) for c in colors]\n",
    "plt.legend(handles, types, prop={'size': 20})\n",
    "\n",
    "# hide x-ticks\n",
    "plt.xticks([], fontsize=24)\n",
    "plt.yticks(fontsize=24)\n",
    "plt.xlabel(\"Labels\", fontsize=24)\n",
    "\n",
    "# save plot as file\n",
    "target_dir = Path(DATA_PATH) / \"plots\" / \"clustering\" / \"labels\" \n",
    "if not target_dir.is_dir():\n",
    "        target_dir.mkdir(parents=True, exist_ok=True)\n",
    "\n",
    "fig.tight_layout()\n",
    "plt.savefig(target_dir / \"original_distribution_horziontal.jpeg\", bbox_inches='tight')\n",
    "plt.show()"
   ]
  },
  {
   "cell_type": "code",
   "execution_count": null,
   "metadata": {},
   "outputs": [],
   "source": [
    "# calculate statistics\n",
    "print(df[\"type\"].value_counts())\n",
    "print(df[\"type\"].value_counts().shape)\n",
    "print(df.groupby(\"type\").median().shape)\n",
    "print(df.groupby(\"type\").median().squeeze().shape)\n",
    "print(\"\\nMean\")\n",
    "print(df.groupby(\"type\").mean())\n",
    "print(\"\\nSTD\")\n",
    "print(df.groupby(\"type\").std())\n",
    "print(\"\\nVariance\")\n",
    "print(df.groupby(\"type\").var())"
   ]
  },
  {
   "cell_type": "code",
   "execution_count": null,
   "metadata": {},
   "outputs": [],
   "source": [
    "plt.figure(figsize=(8,6))\n",
    "# print(list(set(df[\"type\"].tolist())))\n",
    "print(df[\"type\"].sort_values().unique())\n",
    "error_bars = list(df.groupby(\"type\").std().squeeze())\n",
    "print(error_bars)\n",
    "\n",
    "plt.barh(df[\"type\"].sort_values().unique(), df.groupby(\"type\").mean().round(0).squeeze(), color=colors, xerr=error_bars, ecolor='black', capsize=10)\n",
    "\n",
    "# legend\n",
    "handles = [plt.Rectangle((0,0),1,1, color=c) for c in colors]\n",
    "plt.legend(handles, types)\n",
    "\n",
    "# label counts\n",
    "for index, value in enumerate(df.groupby(\"type\").mean().astype(int).squeeze()):\n",
    "    plt.text(value, index, str(value))\n",
    "\n",
    "plt.gca().invert_yaxis()\n",
    "plt.xticks(rotation=80)\n",
    "plt.show()"
   ]
  },
  {
   "cell_type": "markdown",
   "metadata": {},
   "source": [
    "## Label Percentages"
   ]
  },
  {
   "cell_type": "code",
   "execution_count": null,
   "metadata": {},
   "outputs": [],
   "source": [
    "df[\"percentage\"] = (df[\"Count(*)\"] / 41150) * 100\n",
    "\n",
    "print(df[:6])"
   ]
  }
 ],
 "metadata": {
  "interpreter": {
   "hash": "07e3a7355d7abb8aa405eb35da3e7fd4ab2bc4b84e1079a2d318e7f47c8b0cf5"
  },
  "kernelspec": {
   "display_name": "Python 3.8.3 64-bit ('venv': venv)",
   "name": "python3"
  },
  "language_info": {
   "codemirror_mode": {
    "name": "ipython",
    "version": 3
   },
   "file_extension": ".py",
   "mimetype": "text/x-python",
   "name": "python",
   "nbconvert_exporter": "python",
   "pygments_lexer": "ipython3",
   "version": "3.8.3"
  },
  "orig_nbformat": 4
 },
 "nbformat": 4,
 "nbformat_minor": 2
}
