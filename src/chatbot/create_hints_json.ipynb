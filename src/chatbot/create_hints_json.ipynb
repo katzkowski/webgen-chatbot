{
 "cells": [
  {
   "cell_type": "markdown",
   "source": [
    "# Create `hints.json`"
   ],
   "metadata": {}
  },
  {
   "cell_type": "code",
   "execution_count": null,
   "source": [
    "import os\r\n",
    "import pandas as pd\r\n",
    "import json\r\n",
    "\r\n",
    "from pathlib import Path\r\n",
    "from dotenv import load_dotenv\r\n",
    "\r\n",
    "load_dotenv()\r\n",
    "DATA_PATH = Path(os.getenv(\"DATA_PATH\"))\r\n",
    "\r\n",
    "# only for .ipynb because relative imports don't work\r\n",
    "root_path = Path(DATA_PATH).parent\r\n",
    "os.chdir(str(root_path))\r\n",
    "\r\n",
    "import src.database.db_connector as db\r\n",
    "\r\n",
    "# database name for results\r\n",
    "db_name = \"clustering_db\"\r\n",
    "cnx = db.connect_to_database(db_name)\r\n"
   ],
   "outputs": [],
   "metadata": {}
  },
  {
   "cell_type": "code",
   "execution_count": null,
   "source": [
    "labels_path = DATA_PATH / \"labels\" / \"labels.csv\"\r\n",
    "\r\n",
    "# read labels into dataframe\r\n",
    "df = pd.read_csv(labels_path, header=None, names=[\"label\", \"type\", \"id\"])\r\n",
    "\r\n",
    "df"
   ],
   "outputs": [],
   "metadata": {}
  },
  {
   "cell_type": "code",
   "execution_count": null,
   "source": [
    "# category list\r\n",
    "categories = list(df[df[\"type\"] == \"category\"][\"label\"])"
   ],
   "outputs": [],
   "metadata": {}
  },
  {
   "cell_type": "code",
   "execution_count": null,
   "source": [
    "# query top n=5 labels for each cluster withj \r\n",
    "top_n_query = \"\"\"\r\n",
    "    SELECT rj.cluster_id, rj.label_name\r\n",
    "    FROM ( \r\n",
    "        SELECT * FROM (\r\n",
    "            SELECT \r\n",
    "            j.ranked_k_value,\r\n",
    "            j.cluster_id, \r\n",
    "            @cluster_rank := if(@current_cluster = j.cluster_id, @cluster_rank  + 1, 1) AS cluster_rank ,\r\n",
    "            j.label_name,\r\n",
    "            j.factor_tf_idf,\r\n",
    "            @current_cluster := j.cluster_id\r\n",
    "            FROM ( \r\n",
    "                SELECT  *\r\n",
    "                FROM matchings AS m\r\n",
    "                INNER JOIN ( \r\n",
    "                    SELECT ma.k_value as ranked_k_value, ma.run_name as ranked_run\r\n",
    "                    FROM matchings AS ma\r\n",
    "                    WHERE (ma.run_name = \"v01_all_run2_pca90\" OR ma.run_name = \"v01_all_run3_pca90\") \r\n",
    "                    group by ma.k_value\r\n",
    "                ) as ranked_k on ranked_k.ranked_k_value = m.k_value\r\n",
    "                INNER JOIN labels as l on m.label_name = l.name\r\n",
    "                WHERE (m.run_name = \"v01_all_run2_pca90\" OR m.run_name = \"v01_all_run3_pca90\")  AND m.k_value = ranked_k.ranked_k_value AND l.type =\"tag\"\r\n",
    "                ORDER BY ranked_k.ranked_k_value, m.cluster_id, m.factor_tf_idf desc\r\n",
    "            ) as j\r\n",
    "        ) as ranked_clusters\r\n",
    "        where ranked_clusters.cluster_rank <= 5\r\n",
    "        and ranked_clusters.ranked_k_value = 55\r\n",
    "    ) as rj;\r\n",
    "\"\"\"\r\n",
    "\r\n",
    "df_topn = pd.read_sql(top_n_query, cnx)\r\n",
    "df_topn"
   ],
   "outputs": [],
   "metadata": {}
  },
  {
   "cell_type": "code",
   "execution_count": null,
   "source": [
    "# list of dict with cluster and feature tag  \r\n",
    "cluster_dict_list = df_topn.to_dict(\"records\")\r\n",
    "\r\n",
    "cluster_dict_list"
   ],
   "outputs": [],
   "metadata": {}
  },
  {
   "cell_type": "code",
   "execution_count": null,
   "source": [
    "# load manually edited mappings\r\n",
    "with open(DATA_PATH / \"chatbot\" / \"mappings.json\", \"r\") as json_file:\r\n",
    "    mappings_dict = json.load(json_file)\r\n",
    "    \r\n",
    "print(len(cluster_dict_list))\r\n",
    "\r\n",
    "mapped_hints = []\r\n",
    "# map label names\r\n",
    "for hint in cluster_dict_list:\r\n",
    "    name = mappings_dict[hint[\"label_name\"]][\"name\"]\r\n",
    "    print(hint)\r\n",
    "\r\n",
    "    # skip if label is mapped to None\r\n",
    "    if name is not None:\r\n",
    "        hint[\"label_name\"] = name\r\n",
    "        mapped_hints.append(hint)\r\n",
    "    else:\r\n",
    "        continue\r\n",
    "\r\n",
    "print(len(mapped_hints))"
   ],
   "outputs": [],
   "metadata": {}
  },
  {
   "cell_type": "code",
   "execution_count": null,
   "source": [
    "mapped_cats = []\r\n",
    "\r\n",
    "# apply mappings to categories\r\n",
    "for cat in categories:\r\n",
    "    name = mappings_dict[cat][\"name\"]\r\n",
    "\r\n",
    "    # skip if label is mapped to None\r\n",
    "    if name is not None:\r\n",
    "        mapped_cats.append(name)\r\n",
    "    else:\r\n",
    "        continue"
   ],
   "outputs": [],
   "metadata": {}
  },
  {
   "cell_type": "code",
   "execution_count": null,
   "source": [
    "# create dicts containing list of top 5 features for each cluster\r\n",
    "hint_lists = [\r\n",
    "    {cid: [dct[\"label_name\"] for dct in cluster_dict_list if dct[\"cluster_id\"] == cid]}\r\n",
    "    for cid in list(range(0, 55))\r\n",
    "]\r\n",
    "\r\n",
    "hint_lists"
   ],
   "outputs": [],
   "metadata": {}
  },
  {
   "cell_type": "code",
   "execution_count": null,
   "source": [
    "# merge hint lists of dicts to one dict\r\n",
    "hint_dict = {}\r\n",
    "for dct in hint_lists:\r\n",
    "    hint_dict.update(dct)\r\n",
    "\r\n",
    "hint_dict"
   ],
   "outputs": [],
   "metadata": {}
  },
  {
   "cell_type": "code",
   "execution_count": null,
   "source": [
    "# create dict to write to json\r\n",
    "json_dict = {\"categories\": mapped_cats, \"features\": hint_dict}\r\n",
    "\r\n",
    "json_dict"
   ],
   "outputs": [],
   "metadata": {}
  },
  {
   "cell_type": "code",
   "execution_count": null,
   "source": [
    "# export to json file\r\n",
    "import json\r\n",
    "\r\n",
    "with open(DATA_PATH / \"chatbot\" / \"hints-new.json\", \"w\") as outfile:\r\n",
    "    json.dump(json_dict, outfile, indent = 4)"
   ],
   "outputs": [],
   "metadata": {}
  }
 ],
 "metadata": {
  "orig_nbformat": 4,
  "language_info": {
   "name": "python",
   "version": "3.8.3",
   "mimetype": "text/x-python",
   "codemirror_mode": {
    "name": "ipython",
    "version": 3
   },
   "pygments_lexer": "ipython3",
   "nbconvert_exporter": "python",
   "file_extension": ".py"
  },
  "kernelspec": {
   "name": "python3",
   "display_name": "Python 3.8.3 64-bit ('venv': venv)"
  },
  "interpreter": {
   "hash": "07e3a7355d7abb8aa405eb35da3e7fd4ab2bc4b84e1079a2d318e7f47c8b0cf5"
  }
 },
 "nbformat": 4,
 "nbformat_minor": 2
}